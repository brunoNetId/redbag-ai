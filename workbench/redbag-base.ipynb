{
 "cells": [
  {
   "cell_type": "markdown",
   "id": "e20a0971",
   "metadata": {
    "id": "e20a0971"
   },
   "source": [
    "# Building an Image Classifier Deep Network applying Transfer Learning"
   ]
  },
  {
   "cell_type": "code",
   "execution_count": 12,
   "id": "d8b1b796-5d74-4b97-aae4-7fe33a7fc8f1",
   "metadata": {
    "tags": []
   },
   "outputs": [],
   "source": [
    "import os\n",
    "\n",
    "# mount_path = os.environ['working_dir']"
   ]
  },
  {
   "cell_type": "code",
   "execution_count": 13,
   "id": "8wM31kI5-PeJ",
   "metadata": {
    "id": "8wM31kI5-PeJ",
    "tags": []
   },
   "outputs": [],
   "source": [
    "# import the required libraries\n",
    "import matplotlib.pyplot as plt\n",
    "import tensorflow as tf\n",
    "from tensorflow.keras.applications.mobilenet_v2 import preprocess_input\n",
    "\n",
    "# from tensorflow.keras.preprocessing import image_dataset_from_directory\n",
    "# from tensorflow.keras.preprocessing.image import ImageDataGenerator\n",
    "# import tf.keras.utils\n",
    "from PIL import Image\n",
    "import numpy as np\n",
    "import os\n",
    "import base64\n",
    "from io import BytesIO"
   ]
  },
  {
   "cell_type": "markdown",
   "id": "eb58fc24",
   "metadata": {
    "id": "eb58fc24",
    "tags": []
   },
   "source": [
    "# Import pre-trained model"
   ]
  },
  {
   "cell_type": "code",
   "execution_count": 14,
   "id": "717277b5",
   "metadata": {
    "id": "717277b5",
    "tags": []
   },
   "outputs": [
    {
     "data": {
      "text/plain": [
       "156"
      ]
     },
     "execution_count": 14,
     "metadata": {},
     "output_type": "execute_result"
    }
   ],
   "source": [
    "pre_trained_model = tf.keras.applications.MobileNetV2()\n",
    "len(pre_trained_model.layers)"
   ]
  },
  {
   "cell_type": "markdown",
   "id": "fdc3b5cc-209a-44f3-929b-9be181ff6aa9",
   "metadata": {},
   "source": [
    "# Get Labels"
   ]
  },
  {
   "cell_type": "code",
   "execution_count": 15,
   "id": "287cd015-8381-411b-a458-286709edce99",
   "metadata": {
    "tags": []
   },
   "outputs": [
    {
     "name": "stdout",
     "output_type": "stream",
     "text": [
      "Labels shape: (1000,)\n",
      "['tench' 'goldfish' 'great white shark' 'tiger shark' 'hammerhead'\n",
      " 'electric ray' 'stingray' 'cock' 'hen' 'ostrich' 'brambling' 'goldfinch'\n",
      " 'house finch' 'junco' 'indigo bunting' 'robin' 'bulbul' 'jay' 'magpie'\n",
      " 'chickadee' 'water ouzel' 'kite' 'bald eagle' 'vulture' 'great grey owl'\n",
      " 'European fire salamander' 'common newt' 'eft' 'spotted salamander'\n",
      " 'axolotl' 'bullfrog' 'tree frog' 'tailed frog' 'loggerhead'\n",
      " 'leatherback turtle' 'mud turtle' 'terrapin' 'box turtle' 'banded gecko'\n",
      " 'common iguana' 'American chameleon' 'whiptail' 'agama' 'frilled lizard'\n",
      " 'alligator lizard' 'Gila monster' 'green lizard' 'African chameleon'\n",
      " 'Komodo dragon' 'African crocodile' 'American alligator' 'triceratops'\n",
      " 'thunder snake' 'ringneck snake' 'hognose snake' 'green snake'\n",
      " 'king snake' 'garter snake' 'water snake' 'vine snake' 'night snake'\n",
      " 'boa constrictor' 'rock python' 'Indian cobra' 'green mamba' 'sea snake'\n",
      " 'horned viper' 'diamondback' 'sidewinder' 'trilobite' 'harvestman'\n",
      " 'scorpion' 'black and gold garden spider' 'barn spider' 'garden spider'\n",
      " 'black widow' 'tarantula' 'wolf spider' 'tick' 'centipede' 'black grouse'\n",
      " 'ptarmigan' 'ruffed grouse' 'prairie chicken' 'peacock' 'quail'\n",
      " 'partridge' 'African grey' 'macaw' 'sulphur-crested cockatoo' 'lorikeet'\n",
      " 'coucal' 'bee eater' 'hornbill' 'hummingbird' 'jacamar' 'toucan' 'drake'\n",
      " 'red-breasted merganser' 'goose' 'black swan' 'tusker' 'echidna'\n",
      " 'platypus' 'wallaby' 'koala' 'wombat' 'jellyfish' 'sea anemone'\n",
      " 'brain coral' 'flatworm' 'nematode' 'conch' 'snail' 'slug' 'sea slug'\n",
      " 'chiton' 'chambered nautilus' 'Dungeness crab' 'rock crab' 'fiddler crab'\n",
      " 'king crab' 'American lobster' 'spiny lobster' 'crayfish' 'hermit crab'\n",
      " 'isopod' 'white stork' 'black stork' 'spoonbill' 'flamingo'\n",
      " 'little blue heron' 'American egret' 'bittern' 'crane' 'limpkin'\n",
      " 'European gallinule' 'American coot' 'bustard' 'ruddy turnstone'\n",
      " 'red-backed sandpiper' 'redshank' 'dowitcher' 'oystercatcher' 'pelican'\n",
      " 'king penguin' 'albatross' 'grey whale' 'killer whale' 'dugong'\n",
      " 'sea lion' 'Chihuahua' 'Japanese spaniel' 'Maltese dog' 'Pekinese'\n",
      " 'Shih-Tzu' 'Blenheim spaniel' 'papillon' 'toy terrier'\n",
      " 'Rhodesian ridgeback' 'Afghan hound' 'basset' 'beagle' 'bloodhound'\n",
      " 'bluetick' 'black-and-tan coonhound' 'Walker hound' 'English foxhound'\n",
      " 'redbone' 'borzoi' 'Irish wolfhound' 'Italian greyhound' 'whippet'\n",
      " 'Ibizan hound' 'Norwegian elkhound' 'otterhound' 'Saluki'\n",
      " 'Scottish deerhound' 'Weimaraner' 'Staffordshire bullterrier'\n",
      " 'American Staffordshire terrier' 'Bedlington terrier' 'Border terrier'\n",
      " 'Kerry blue terrier' 'Irish terrier' 'Norfolk terrier' 'Norwich terrier'\n",
      " 'Yorkshire terrier' 'wire-haired fox terrier' 'Lakeland terrier'\n",
      " 'Sealyham terrier' 'Airedale' 'cairn' 'Australian terrier'\n",
      " 'Dandie Dinmont' 'Boston bull' 'miniature schnauzer' 'giant schnauzer'\n",
      " 'standard schnauzer' 'Scotch terrier' 'Tibetan terrier' 'silky terrier'\n",
      " 'soft-coated wheaten terrier' 'West Highland white terrier' 'Lhasa'\n",
      " 'flat-coated retriever' 'curly-coated retriever' 'golden retriever'\n",
      " 'Labrador retriever' 'Chesapeake Bay retriever'\n",
      " 'German short-haired pointer' 'vizsla' 'English setter' 'Irish setter'\n",
      " 'Gordon setter' 'Brittany spaniel' 'clumber' 'English springer'\n",
      " 'Welsh springer spaniel' 'cocker spaniel' 'Sussex spaniel'\n",
      " 'Irish water spaniel' 'kuvasz' 'schipperke' 'groenendael' 'malinois'\n",
      " 'briard' 'kelpie' 'komondor' 'Old English sheepdog' 'Shetland sheepdog'\n",
      " 'collie' 'Border collie' 'Bouvier des Flandres' 'Rottweiler'\n",
      " 'German shepherd' 'Doberman' 'miniature pinscher'\n",
      " 'Greater Swiss Mountain dog' 'Bernese mountain dog' 'Appenzeller'\n",
      " 'EntleBucher' 'boxer' 'bull mastiff' 'Tibetan mastiff' 'French bulldog'\n",
      " 'Great Dane' 'Saint Bernard' 'Eskimo dog' 'malamute' 'Siberian husky'\n",
      " 'dalmatian' 'affenpinscher' 'basenji' 'pug' 'Leonberg' 'Newfoundland'\n",
      " 'Great Pyrenees' 'Samoyed' 'Pomeranian' 'chow' 'keeshond'\n",
      " 'Brabancon griffon' 'Pembroke' 'Cardigan' 'toy poodle' 'miniature poodle'\n",
      " 'standard poodle' 'Mexican hairless' 'timber wolf' 'white wolf'\n",
      " 'red wolf' 'coyote' 'dingo' 'dhole' 'African hunting dog' 'hyena'\n",
      " 'red fox' 'kit fox' 'Arctic fox' 'grey fox' 'tabby' 'tiger cat'\n",
      " 'Persian cat' 'Siamese cat' 'Egyptian cat' 'cougar' 'lynx' 'leopard'\n",
      " 'snow leopard' 'jaguar' 'lion' 'tiger' 'cheetah' 'brown bear'\n",
      " 'American black bear' 'ice bear' 'sloth bear' 'mongoose' 'meerkat'\n",
      " 'tiger beetle' 'ladybug' 'ground beetle' 'long-horned beetle'\n",
      " 'leaf beetle' 'dung beetle' 'rhinoceros beetle' 'weevil' 'fly' 'bee'\n",
      " 'ant' 'grasshopper' 'cricket' 'walking stick' 'cockroach' 'mantis'\n",
      " 'cicada' 'leafhopper' 'lacewing' 'dragonfly' 'damselfly' 'admiral'\n",
      " 'ringlet' 'monarch' 'cabbage butterfly' 'sulphur butterfly' 'lycaenid'\n",
      " 'starfish' 'sea urchin' 'sea cucumber' 'wood rabbit' 'hare' 'Angora'\n",
      " 'hamster' 'porcupine' 'fox squirrel' 'marmot' 'beaver' 'guinea pig'\n",
      " 'sorrel' 'zebra' 'hog' 'wild boar' 'warthog' 'hippopotamus' 'ox'\n",
      " 'water buffalo' 'bison' 'ram' 'bighorn' 'ibex' 'hartebeest' 'impala'\n",
      " 'gazelle' 'Arabian camel' 'llama' 'weasel' 'mink' 'polecat'\n",
      " 'black-footed ferret' 'otter' 'skunk' 'badger' 'armadillo'\n",
      " 'three-toed sloth' 'orangutan' 'gorilla' 'chimpanzee' 'gibbon' 'siamang'\n",
      " 'guenon' 'patas' 'baboon' 'macaque' 'langur' 'colobus' 'proboscis monkey'\n",
      " 'marmoset' 'capuchin' 'howler monkey' 'titi' 'spider monkey'\n",
      " 'squirrel monkey' 'Madagascar cat' 'indri' 'Indian elephant'\n",
      " 'African elephant' 'lesser panda' 'giant panda' 'barracouta' 'eel' 'coho'\n",
      " 'rock beauty' 'anemone fish' 'sturgeon' 'gar' 'lionfish' 'puffer'\n",
      " 'abacus' 'abaya' 'academic gown' 'accordion' 'acoustic guitar'\n",
      " 'aircraft carrier' 'airliner' 'airship' 'altar' 'ambulance' 'amphibian'\n",
      " 'analog clock' 'apiary' 'apron' 'ashcan' 'assault rifle' 'backpack'\n",
      " 'bakery' 'balance beam' 'balloon' 'ballpoint' 'Band Aid' 'banjo'\n",
      " 'bannister' 'barbell' 'barber chair' 'barbershop' 'barn' 'barometer'\n",
      " 'barrel' 'barrow' 'baseball' 'basketball' 'bassinet' 'bassoon'\n",
      " 'bathing cap' 'bath towel' 'bathtub' 'beach wagon' 'beacon' 'beaker'\n",
      " 'bearskin' 'beer bottle' 'beer glass' 'bell cote' 'bib'\n",
      " 'bicycle-built-for-two' 'bikini' 'binder' 'binoculars' 'birdhouse'\n",
      " 'boathouse' 'bobsled' 'bolo tie' 'bonnet' 'bookcase' 'bookshop'\n",
      " 'bottlecap' 'bow' 'bow tie' 'brass' 'brassiere' 'breakwater'\n",
      " 'breastplate' 'broom' 'bucket' 'buckle' 'bulletproof vest' 'bullet train'\n",
      " 'butcher shop' 'cab' 'caldron' 'candle' 'cannon' 'canoe' 'can opener'\n",
      " 'cardigan' 'car mirror' 'carousel' \"carpenter's kit\" 'carton' 'car wheel'\n",
      " 'cash machine' 'cassette' 'cassette player' 'castle' 'catamaran'\n",
      " 'CD player' 'cello' 'cellular telephone' 'chain' 'chainlink fence'\n",
      " 'chain mail' 'chain saw' 'chest' 'chiffonier' 'chime' 'china cabinet'\n",
      " 'Christmas stocking' 'church' 'cinema' 'cleaver' 'cliff dwelling' 'cloak'\n",
      " 'clog' 'cocktail shaker' 'coffee mug' 'coffeepot' 'coil'\n",
      " 'combination lock' 'computer keyboard' 'confectionery' 'container ship'\n",
      " 'convertible' 'corkscrew' 'cornet' 'cowboy boot' 'cowboy hat' 'cradle'\n",
      " 'crane' 'crash helmet' 'crate' 'crib' 'Crock Pot' 'croquet ball' 'crutch'\n",
      " 'cuirass' 'dam' 'desk' 'desktop computer' 'dial telephone' 'diaper'\n",
      " 'digital clock' 'digital watch' 'dining table' 'dishrag' 'dishwasher'\n",
      " 'disk brake' 'dock' 'dogsled' 'dome' 'doormat' 'drilling platform' 'drum'\n",
      " 'drumstick' 'dumbbell' 'Dutch oven' 'electric fan' 'electric guitar'\n",
      " 'electric locomotive' 'entertainment center' 'envelope' 'espresso maker'\n",
      " 'face powder' 'feather boa' 'file' 'fireboat' 'fire engine' 'fire screen'\n",
      " 'flagpole' 'flute' 'folding chair' 'football helmet' 'forklift'\n",
      " 'fountain' 'fountain pen' 'four-poster' 'freight car' 'French horn'\n",
      " 'frying pan' 'fur coat' 'garbage truck' 'gasmask' 'gas pump' 'goblet'\n",
      " 'go-kart' 'golf ball' 'golfcart' 'gondola' 'gong' 'gown' 'grand piano'\n",
      " 'greenhouse' 'grille' 'grocery store' 'guillotine' 'hair slide'\n",
      " 'hair spray' 'half track' 'hammer' 'hamper' 'hand blower'\n",
      " 'hand-held computer' 'handkerchief' 'hard disc' 'harmonica' 'harp'\n",
      " 'harvester' 'hatchet' 'holster' 'home theater' 'honeycomb' 'hook'\n",
      " 'hoopskirt' 'horizontal bar' 'horse cart' 'hourglass' 'iPod' 'iron'\n",
      " \"jack-o'-lantern\" 'jean' 'jeep' 'jersey' 'jigsaw puzzle' 'jinrikisha'\n",
      " 'joystick' 'kimono' 'knee pad' 'knot' 'lab coat' 'ladle' 'lampshade'\n",
      " 'laptop' 'lawn mower' 'lens cap' 'letter opener' 'library' 'lifeboat'\n",
      " 'lighter' 'limousine' 'liner' 'lipstick' 'Loafer' 'lotion' 'loudspeaker'\n",
      " 'loupe' 'lumbermill' 'magnetic compass' 'mailbag' 'mailbox' 'maillot'\n",
      " 'maillot' 'manhole cover' 'maraca' 'marimba' 'mask' 'matchstick'\n",
      " 'maypole' 'maze' 'measuring cup' 'medicine chest' 'megalith' 'microphone'\n",
      " 'microwave' 'military uniform' 'milk can' 'minibus' 'miniskirt' 'minivan'\n",
      " 'missile' 'mitten' 'mixing bowl' 'mobile home' 'Model T' 'modem'\n",
      " 'monastery' 'monitor' 'moped' 'mortar' 'mortarboard' 'mosque'\n",
      " 'mosquito net' 'motor scooter' 'mountain bike' 'mountain tent' 'mouse'\n",
      " 'mousetrap' 'moving van' 'muzzle' 'nail' 'neck brace' 'necklace' 'nipple'\n",
      " 'notebook' 'obelisk' 'oboe' 'ocarina' 'odometer' 'oil filter' 'organ'\n",
      " 'oscilloscope' 'overskirt' 'oxcart' 'oxygen mask' 'packet' 'paddle'\n",
      " 'paddlewheel' 'padlock' 'paintbrush' 'pajama' 'palace' 'panpipe'\n",
      " 'paper towel' 'parachute' 'parallel bars' 'park bench' 'parking meter'\n",
      " 'passenger car' 'patio' 'pay-phone' 'pedestal' 'pencil box'\n",
      " 'pencil sharpener' 'perfume' 'Petri dish' 'photocopier' 'pick'\n",
      " 'pickelhaube' 'picket fence' 'pickup' 'pier' 'piggy bank' 'pill bottle'\n",
      " 'pillow' 'ping-pong ball' 'pinwheel' 'pirate' 'pitcher' 'plane'\n",
      " 'planetarium' 'plastic bag' 'plate rack' 'plow' 'plunger'\n",
      " 'Polaroid camera' 'pole' 'police van' 'poncho' 'pool table' 'pop bottle'\n",
      " 'pot' \"potter's wheel\" 'power drill' 'prayer rug' 'printer' 'prison'\n",
      " 'projectile' 'projector' 'puck' 'punching bag' 'purse' 'quill' 'quilt'\n",
      " 'racer' 'racket' 'radiator' 'radio' 'radio telescope' 'rain barrel'\n",
      " 'recreational vehicle' 'reel' 'reflex camera' 'refrigerator'\n",
      " 'remote control' 'restaurant' 'revolver' 'rifle' 'rocking chair'\n",
      " 'rotisserie' 'rubber eraser' 'rugby ball' 'rule' 'running shoe' 'safe'\n",
      " 'safety pin' 'saltshaker' 'sandal' 'sarong' 'sax' 'scabbard' 'scale'\n",
      " 'school bus' 'schooner' 'scoreboard' 'screen' 'screw' 'screwdriver'\n",
      " 'seat belt' 'sewing machine' 'shield' 'shoe shop' 'shoji'\n",
      " 'shopping basket' 'shopping cart' 'shovel' 'shower cap' 'shower curtain'\n",
      " 'ski' 'ski mask' 'sleeping bag' 'slide rule' 'sliding door' 'slot'\n",
      " 'snorkel' 'snowmobile' 'snowplow' 'soap dispenser' 'soccer ball' 'sock'\n",
      " 'solar dish' 'sombrero' 'soup bowl' 'space bar' 'space heater'\n",
      " 'space shuttle' 'spatula' 'speedboat' 'spider web' 'spindle' 'sports car'\n",
      " 'spotlight' 'stage' 'steam locomotive' 'steel arch bridge' 'steel drum'\n",
      " 'stethoscope' 'stole' 'stone wall' 'stopwatch' 'stove' 'strainer'\n",
      " 'streetcar' 'stretcher' 'studio couch' 'stupa' 'submarine' 'suit'\n",
      " 'sundial' 'sunglass' 'sunglasses' 'sunscreen' 'suspension bridge' 'swab'\n",
      " 'sweatshirt' 'swimming trunks' 'swing' 'switch' 'syringe' 'table lamp'\n",
      " 'tank' 'tape player' 'teapot' 'teddy' 'television' 'tennis ball' 'thatch'\n",
      " 'theater curtain' 'thimble' 'thresher' 'throne' 'tile roof' 'toaster'\n",
      " 'tobacco shop' 'toilet seat' 'torch' 'totem pole' 'tow truck' 'toyshop'\n",
      " 'tractor' 'trailer truck' 'tray' 'trench coat' 'tricycle' 'trimaran'\n",
      " 'tripod' 'triumphal arch' 'trolleybus' 'trombone' 'tub' 'turnstile'\n",
      " 'typewriter keyboard' 'umbrella' 'unicycle' 'upright' 'vacuum' 'vase'\n",
      " 'vault' 'velvet' 'vending machine' 'vestment' 'viaduct' 'violin'\n",
      " 'volleyball' 'waffle iron' 'wall clock' 'wallet' 'wardrobe' 'warplane'\n",
      " 'washbasin' 'washer' 'water bottle' 'water jug' 'water tower'\n",
      " 'whiskey jug' 'whistle' 'wig' 'window screen' 'window shade'\n",
      " 'Windsor tie' 'wine bottle' 'wing' 'wok' 'wooden spoon' 'wool'\n",
      " 'worm fence' 'wreck' 'yawl' 'yurt' 'web site' 'comic book'\n",
      " 'crossword puzzle' 'street sign' 'traffic light' 'book jacket' 'menu'\n",
      " 'plate' 'guacamole' 'consomme' 'hot pot' 'trifle' 'ice cream' 'ice lolly'\n",
      " 'French loaf' 'bagel' 'pretzel' 'cheeseburger' 'hotdog' 'mashed potato'\n",
      " 'head cabbage' 'broccoli' 'cauliflower' 'zucchini' 'spaghetti squash'\n",
      " 'acorn squash' 'butternut squash' 'cucumber' 'artichoke' 'bell pepper'\n",
      " 'cardoon' 'mushroom' 'Granny Smith' 'strawberry' 'orange' 'lemon' 'fig'\n",
      " 'pineapple' 'banana' 'jackfruit' 'custard apple' 'pomegranate' 'hay'\n",
      " 'carbonara' 'chocolate sauce' 'dough' 'meat loaf' 'pizza' 'potpie'\n",
      " 'burrito' 'red wine' 'espresso' 'cup' 'eggnog' 'alp' 'bubble' 'cliff'\n",
      " 'coral reef' 'geyser' 'lakeside' 'promontory' 'sandbar' 'seashore'\n",
      " 'valley' 'volcano' 'ballplayer' 'groom' 'scuba diver' 'rapeseed' 'daisy'\n",
      " \"yellow lady's slipper\" 'corn' 'acorn' 'hip' 'buckeye' 'coral fungus'\n",
      " 'agaric' 'gyromitra' 'stinkhorn' 'earthstar' 'hen-of-the-woods' 'bolete'\n",
      " 'ear' 'toilet tissue']\n"
     ]
    }
   ],
   "source": [
    "LABELS_URL = 'https://storage.googleapis.com/download.tensorflow.org/data/ImageNetLabels.txt'\n",
    "labels_path = tf.keras.utils.get_file('ImageNetLabels.txt', LABELS_URL)\n",
    "class_names = np.array(\n",
    "    open(labels_path).read().splitlines()\n",
    ")[1:]\n",
    "\n",
    "print('Labels shape:', class_names.shape)\n",
    "\n",
    "print(class_names)"
   ]
  },
  {
   "cell_type": "markdown",
   "id": "7b2a42f2-1279-4756-9b3b-9ff54b17e880",
   "metadata": {},
   "source": [
    "# test single image"
   ]
  },
  {
   "cell_type": "code",
   "execution_count": 16,
   "id": "fc2ca52d-1a0b-482c-acdb-7c58ce90742b",
   "metadata": {
    "tags": []
   },
   "outputs": [
    {
     "name": "stdout",
     "output_type": "stream",
     "text": [
      "1/1 [==============================] - 1s 636ms/step\n",
      "['banana']\n"
     ]
    }
   ],
   "source": [
    "testfile = \"samples/banana.jpeg\"\n",
    "\n",
    "img = Image.open(testfile).convert('RGB')\n",
    "img = img.resize((224, 224), Image.LANCZOS)\n",
    "img = np.asarray(img)\n",
    "\n",
    "mydata = np.empty((1, 224, 224, 3))\n",
    "mydata[0] = img\n",
    "\n",
    "ppdata = preprocess_input(mydata)\n",
    "\n",
    "mypredition = pre_trained_model.predict(ppdata)\n",
    "\n",
    "print(class_names[np.argmax(mypredition, axis=1)])"
   ]
  },
  {
   "cell_type": "markdown",
   "id": "d3949cce-82f0-461b-b835-c79cb6672ac7",
   "metadata": {},
   "source": [
    "# Save Base model"
   ]
  },
  {
   "cell_type": "code",
   "execution_count": 17,
   "id": "047586cf-fe51-4890-b556-5270146b3525",
   "metadata": {
    "tags": []
   },
   "outputs": [
    {
     "name": "stdout",
     "output_type": "stream",
     "text": [
      "INFO:tensorflow:Assets written to: ./models/base/1/assets\n"
     ]
    },
    {
     "name": "stderr",
     "output_type": "stream",
     "text": [
      "INFO:tensorflow:Assets written to: ./models/base/1/assets\n"
     ]
    }
   ],
   "source": [
    "# We save the model in order to genereate a default signature we can later modify\n",
    "tf.saved_model.save(pre_trained_model, \"./models/base/1\")\n"
   ]
  },
  {
   "cell_type": "markdown",
   "id": "801da411-d7f2-4394-93e2-cb4e97802a69",
   "metadata": {},
   "source": [
    "# Save model with Base64 Signature"
   ]
  },
  {
   "cell_type": "markdown",
   "id": "fec77e99-4c19-4c51-8bc9-7f9ddd08bff9",
   "metadata": {},
   "source": [
    "### Load labels"
   ]
  },
  {
   "cell_type": "code",
   "execution_count": 18,
   "id": "e8ac7404-0aa1-4e61-928c-efee862219a1",
   "metadata": {
    "tags": []
   },
   "outputs": [
    {
     "name": "stdout",
     "output_type": "stream",
     "text": [
      "['tench' 'goldfish' 'great white shark' 'tiger shark' 'hammerhead'\n",
      " 'electric ray' 'stingray' 'cock' 'hen' 'ostrich' 'brambling' 'goldfinch'\n",
      " 'house finch' 'junco' 'indigo bunting' 'robin' 'bulbul' 'jay' 'magpie'\n",
      " 'chickadee' 'water ouzel' 'kite' 'bald eagle' 'vulture' 'great grey owl'\n",
      " 'European fire salamander' 'common newt' 'eft' 'spotted salamander'\n",
      " 'axolotl' 'bullfrog' 'tree frog' 'tailed frog' 'loggerhead'\n",
      " 'leatherback turtle' 'mud turtle' 'terrapin' 'box turtle' 'banded gecko'\n",
      " 'common iguana' 'American chameleon' 'whiptail' 'agama' 'frilled lizard'\n",
      " 'alligator lizard' 'Gila monster' 'green lizard' 'African chameleon'\n",
      " 'Komodo dragon' 'African crocodile' 'American alligator' 'triceratops'\n",
      " 'thunder snake' 'ringneck snake' 'hognose snake' 'green snake'\n",
      " 'king snake' 'garter snake' 'water snake' 'vine snake' 'night snake'\n",
      " 'boa constrictor' 'rock python' 'Indian cobra' 'green mamba' 'sea snake'\n",
      " 'horned viper' 'diamondback' 'sidewinder' 'trilobite' 'harvestman'\n",
      " 'scorpion' 'black and gold garden spider' 'barn spider' 'garden spider'\n",
      " 'black widow' 'tarantula' 'wolf spider' 'tick' 'centipede' 'black grouse'\n",
      " 'ptarmigan' 'ruffed grouse' 'prairie chicken' 'peacock' 'quail'\n",
      " 'partridge' 'African grey' 'macaw' 'sulphur-crested cockatoo' 'lorikeet'\n",
      " 'coucal' 'bee eater' 'hornbill' 'hummingbird' 'jacamar' 'toucan' 'drake'\n",
      " 'red-breasted merganser' 'goose' 'black swan' 'tusker' 'echidna'\n",
      " 'platypus' 'wallaby' 'koala' 'wombat' 'jellyfish' 'sea anemone'\n",
      " 'brain coral' 'flatworm' 'nematode' 'conch' 'snail' 'slug' 'sea slug'\n",
      " 'chiton' 'chambered nautilus' 'Dungeness crab' 'rock crab' 'fiddler crab'\n",
      " 'king crab' 'American lobster' 'spiny lobster' 'crayfish' 'hermit crab'\n",
      " 'isopod' 'white stork' 'black stork' 'spoonbill' 'flamingo'\n",
      " 'little blue heron' 'American egret' 'bittern' 'crane' 'limpkin'\n",
      " 'European gallinule' 'American coot' 'bustard' 'ruddy turnstone'\n",
      " 'red-backed sandpiper' 'redshank' 'dowitcher' 'oystercatcher' 'pelican'\n",
      " 'king penguin' 'albatross' 'grey whale' 'killer whale' 'dugong'\n",
      " 'sea lion' 'Chihuahua' 'Japanese spaniel' 'Maltese dog' 'Pekinese'\n",
      " 'Shih-Tzu' 'Blenheim spaniel' 'papillon' 'toy terrier'\n",
      " 'Rhodesian ridgeback' 'Afghan hound' 'basset' 'beagle' 'bloodhound'\n",
      " 'bluetick' 'black-and-tan coonhound' 'Walker hound' 'English foxhound'\n",
      " 'redbone' 'borzoi' 'Irish wolfhound' 'Italian greyhound' 'whippet'\n",
      " 'Ibizan hound' 'Norwegian elkhound' 'otterhound' 'Saluki'\n",
      " 'Scottish deerhound' 'Weimaraner' 'Staffordshire bullterrier'\n",
      " 'American Staffordshire terrier' 'Bedlington terrier' 'Border terrier'\n",
      " 'Kerry blue terrier' 'Irish terrier' 'Norfolk terrier' 'Norwich terrier'\n",
      " 'Yorkshire terrier' 'wire-haired fox terrier' 'Lakeland terrier'\n",
      " 'Sealyham terrier' 'Airedale' 'cairn' 'Australian terrier'\n",
      " 'Dandie Dinmont' 'Boston bull' 'miniature schnauzer' 'giant schnauzer'\n",
      " 'standard schnauzer' 'Scotch terrier' 'Tibetan terrier' 'silky terrier'\n",
      " 'soft-coated wheaten terrier' 'West Highland white terrier' 'Lhasa'\n",
      " 'flat-coated retriever' 'curly-coated retriever' 'golden retriever'\n",
      " 'Labrador retriever' 'Chesapeake Bay retriever'\n",
      " 'German short-haired pointer' 'vizsla' 'English setter' 'Irish setter'\n",
      " 'Gordon setter' 'Brittany spaniel' 'clumber' 'English springer'\n",
      " 'Welsh springer spaniel' 'cocker spaniel' 'Sussex spaniel'\n",
      " 'Irish water spaniel' 'kuvasz' 'schipperke' 'groenendael' 'malinois'\n",
      " 'briard' 'kelpie' 'komondor' 'Old English sheepdog' 'Shetland sheepdog'\n",
      " 'collie' 'Border collie' 'Bouvier des Flandres' 'Rottweiler'\n",
      " 'German shepherd' 'Doberman' 'miniature pinscher'\n",
      " 'Greater Swiss Mountain dog' 'Bernese mountain dog' 'Appenzeller'\n",
      " 'EntleBucher' 'boxer' 'bull mastiff' 'Tibetan mastiff' 'French bulldog'\n",
      " 'Great Dane' 'Saint Bernard' 'Eskimo dog' 'malamute' 'Siberian husky'\n",
      " 'dalmatian' 'affenpinscher' 'basenji' 'pug' 'Leonberg' 'Newfoundland'\n",
      " 'Great Pyrenees' 'Samoyed' 'Pomeranian' 'chow' 'keeshond'\n",
      " 'Brabancon griffon' 'Pembroke' 'Cardigan' 'toy poodle' 'miniature poodle'\n",
      " 'standard poodle' 'Mexican hairless' 'timber wolf' 'white wolf'\n",
      " 'red wolf' 'coyote' 'dingo' 'dhole' 'African hunting dog' 'hyena'\n",
      " 'red fox' 'kit fox' 'Arctic fox' 'grey fox' 'tabby' 'tiger cat'\n",
      " 'Persian cat' 'Siamese cat' 'Egyptian cat' 'cougar' 'lynx' 'leopard'\n",
      " 'snow leopard' 'jaguar' 'lion' 'tiger' 'cheetah' 'brown bear'\n",
      " 'American black bear' 'ice bear' 'sloth bear' 'mongoose' 'meerkat'\n",
      " 'tiger beetle' 'ladybug' 'ground beetle' 'long-horned beetle'\n",
      " 'leaf beetle' 'dung beetle' 'rhinoceros beetle' 'weevil' 'fly' 'bee'\n",
      " 'ant' 'grasshopper' 'cricket' 'walking stick' 'cockroach' 'mantis'\n",
      " 'cicada' 'leafhopper' 'lacewing' 'dragonfly' 'damselfly' 'admiral'\n",
      " 'ringlet' 'monarch' 'cabbage butterfly' 'sulphur butterfly' 'lycaenid'\n",
      " 'starfish' 'sea urchin' 'sea cucumber' 'wood rabbit' 'hare' 'Angora'\n",
      " 'hamster' 'porcupine' 'fox squirrel' 'marmot' 'beaver' 'guinea pig'\n",
      " 'sorrel' 'zebra' 'hog' 'wild boar' 'warthog' 'hippopotamus' 'ox'\n",
      " 'water buffalo' 'bison' 'ram' 'bighorn' 'ibex' 'hartebeest' 'impala'\n",
      " 'gazelle' 'Arabian camel' 'llama' 'weasel' 'mink' 'polecat'\n",
      " 'black-footed ferret' 'otter' 'skunk' 'badger' 'armadillo'\n",
      " 'three-toed sloth' 'orangutan' 'gorilla' 'chimpanzee' 'gibbon' 'siamang'\n",
      " 'guenon' 'patas' 'baboon' 'macaque' 'langur' 'colobus' 'proboscis monkey'\n",
      " 'marmoset' 'capuchin' 'howler monkey' 'titi' 'spider monkey'\n",
      " 'squirrel monkey' 'Madagascar cat' 'indri' 'Indian elephant'\n",
      " 'African elephant' 'lesser panda' 'giant panda' 'barracouta' 'eel' 'coho'\n",
      " 'rock beauty' 'anemone fish' 'sturgeon' 'gar' 'lionfish' 'puffer'\n",
      " 'abacus' 'abaya' 'academic gown' 'accordion' 'acoustic guitar'\n",
      " 'aircraft carrier' 'airliner' 'airship' 'altar' 'ambulance' 'amphibian'\n",
      " 'analog clock' 'apiary' 'apron' 'ashcan' 'assault rifle' 'backpack'\n",
      " 'bakery' 'balance beam' 'balloon' 'ballpoint' 'Band Aid' 'banjo'\n",
      " 'bannister' 'barbell' 'barber chair' 'barbershop' 'barn' 'barometer'\n",
      " 'barrel' 'barrow' 'baseball' 'basketball' 'bassinet' 'bassoon'\n",
      " 'bathing cap' 'bath towel' 'bathtub' 'beach wagon' 'beacon' 'beaker'\n",
      " 'bearskin' 'beer bottle' 'beer glass' 'bell cote' 'bib'\n",
      " 'bicycle-built-for-two' 'bikini' 'binder' 'binoculars' 'birdhouse'\n",
      " 'boathouse' 'bobsled' 'bolo tie' 'bonnet' 'bookcase' 'bookshop'\n",
      " 'bottlecap' 'bow' 'bow tie' 'brass' 'brassiere' 'breakwater'\n",
      " 'breastplate' 'broom' 'bucket' 'buckle' 'bulletproof vest' 'bullet train'\n",
      " 'butcher shop' 'cab' 'caldron' 'candle' 'cannon' 'canoe' 'can opener'\n",
      " 'cardigan' 'car mirror' 'carousel' \"carpenter's kit\" 'carton' 'car wheel'\n",
      " 'cash machine' 'cassette' 'cassette player' 'castle' 'catamaran'\n",
      " 'CD player' 'cello' 'cellular telephone' 'chain' 'chainlink fence'\n",
      " 'chain mail' 'chain saw' 'chest' 'chiffonier' 'chime' 'china cabinet'\n",
      " 'Christmas stocking' 'church' 'cinema' 'cleaver' 'cliff dwelling' 'cloak'\n",
      " 'clog' 'cocktail shaker' 'coffee mug' 'coffeepot' 'coil'\n",
      " 'combination lock' 'computer keyboard' 'confectionery' 'container ship'\n",
      " 'convertible' 'corkscrew' 'cornet' 'cowboy boot' 'cowboy hat' 'cradle'\n",
      " 'crane' 'crash helmet' 'crate' 'crib' 'Crock Pot' 'croquet ball' 'crutch'\n",
      " 'cuirass' 'dam' 'desk' 'desktop computer' 'dial telephone' 'diaper'\n",
      " 'digital clock' 'digital watch' 'dining table' 'dishrag' 'dishwasher'\n",
      " 'disk brake' 'dock' 'dogsled' 'dome' 'doormat' 'drilling platform' 'drum'\n",
      " 'drumstick' 'dumbbell' 'Dutch oven' 'electric fan' 'electric guitar'\n",
      " 'electric locomotive' 'entertainment center' 'envelope' 'espresso maker'\n",
      " 'face powder' 'feather boa' 'file' 'fireboat' 'fire engine' 'fire screen'\n",
      " 'flagpole' 'flute' 'folding chair' 'football helmet' 'forklift'\n",
      " 'fountain' 'fountain pen' 'four-poster' 'freight car' 'French horn'\n",
      " 'frying pan' 'fur coat' 'garbage truck' 'gasmask' 'gas pump' 'goblet'\n",
      " 'go-kart' 'golf ball' 'golfcart' 'gondola' 'gong' 'gown' 'grand piano'\n",
      " 'greenhouse' 'grille' 'grocery store' 'guillotine' 'hair slide'\n",
      " 'hair spray' 'half track' 'hammer' 'hamper' 'hand blower'\n",
      " 'hand-held computer' 'handkerchief' 'hard disc' 'harmonica' 'harp'\n",
      " 'harvester' 'hatchet' 'holster' 'home theater' 'honeycomb' 'hook'\n",
      " 'hoopskirt' 'horizontal bar' 'horse cart' 'hourglass' 'iPod' 'iron'\n",
      " \"jack-o'-lantern\" 'jean' 'jeep' 'jersey' 'jigsaw puzzle' 'jinrikisha'\n",
      " 'joystick' 'kimono' 'knee pad' 'knot' 'lab coat' 'ladle' 'lampshade'\n",
      " 'laptop' 'lawn mower' 'lens cap' 'letter opener' 'library' 'lifeboat'\n",
      " 'lighter' 'limousine' 'liner' 'lipstick' 'Loafer' 'lotion' 'loudspeaker'\n",
      " 'loupe' 'lumbermill' 'magnetic compass' 'mailbag' 'mailbox' 'maillot'\n",
      " 'maillot' 'manhole cover' 'maraca' 'marimba' 'mask' 'matchstick'\n",
      " 'maypole' 'maze' 'measuring cup' 'medicine chest' 'megalith' 'microphone'\n",
      " 'microwave' 'military uniform' 'milk can' 'minibus' 'miniskirt' 'minivan'\n",
      " 'missile' 'mitten' 'mixing bowl' 'mobile home' 'Model T' 'modem'\n",
      " 'monastery' 'monitor' 'moped' 'mortar' 'mortarboard' 'mosque'\n",
      " 'mosquito net' 'motor scooter' 'mountain bike' 'mountain tent' 'mouse'\n",
      " 'mousetrap' 'moving van' 'muzzle' 'nail' 'neck brace' 'necklace' 'nipple'\n",
      " 'notebook' 'obelisk' 'oboe' 'ocarina' 'odometer' 'oil filter' 'organ'\n",
      " 'oscilloscope' 'overskirt' 'oxcart' 'oxygen mask' 'packet' 'paddle'\n",
      " 'paddlewheel' 'padlock' 'paintbrush' 'pajama' 'palace' 'panpipe'\n",
      " 'paper towel' 'parachute' 'parallel bars' 'park bench' 'parking meter'\n",
      " 'passenger car' 'patio' 'pay-phone' 'pedestal' 'pencil box'\n",
      " 'pencil sharpener' 'perfume' 'Petri dish' 'photocopier' 'pick'\n",
      " 'pickelhaube' 'picket fence' 'pickup' 'pier' 'piggy bank' 'pill bottle'\n",
      " 'pillow' 'ping-pong ball' 'pinwheel' 'pirate' 'pitcher' 'plane'\n",
      " 'planetarium' 'plastic bag' 'plate rack' 'plow' 'plunger'\n",
      " 'Polaroid camera' 'pole' 'police van' 'poncho' 'pool table' 'pop bottle'\n",
      " 'pot' \"potter's wheel\" 'power drill' 'prayer rug' 'printer' 'prison'\n",
      " 'projectile' 'projector' 'puck' 'punching bag' 'purse' 'quill' 'quilt'\n",
      " 'racer' 'racket' 'radiator' 'radio' 'radio telescope' 'rain barrel'\n",
      " 'recreational vehicle' 'reel' 'reflex camera' 'refrigerator'\n",
      " 'remote control' 'restaurant' 'revolver' 'rifle' 'rocking chair'\n",
      " 'rotisserie' 'rubber eraser' 'rugby ball' 'rule' 'running shoe' 'safe'\n",
      " 'safety pin' 'saltshaker' 'sandal' 'sarong' 'sax' 'scabbard' 'scale'\n",
      " 'school bus' 'schooner' 'scoreboard' 'screen' 'screw' 'screwdriver'\n",
      " 'seat belt' 'sewing machine' 'shield' 'shoe shop' 'shoji'\n",
      " 'shopping basket' 'shopping cart' 'shovel' 'shower cap' 'shower curtain'\n",
      " 'ski' 'ski mask' 'sleeping bag' 'slide rule' 'sliding door' 'slot'\n",
      " 'snorkel' 'snowmobile' 'snowplow' 'soap dispenser' 'soccer ball' 'sock'\n",
      " 'solar dish' 'sombrero' 'soup bowl' 'space bar' 'space heater'\n",
      " 'space shuttle' 'spatula' 'speedboat' 'spider web' 'spindle' 'sports car'\n",
      " 'spotlight' 'stage' 'steam locomotive' 'steel arch bridge' 'steel drum'\n",
      " 'stethoscope' 'stole' 'stone wall' 'stopwatch' 'stove' 'strainer'\n",
      " 'streetcar' 'stretcher' 'studio couch' 'stupa' 'submarine' 'suit'\n",
      " 'sundial' 'sunglass' 'sunglasses' 'sunscreen' 'suspension bridge' 'swab'\n",
      " 'sweatshirt' 'swimming trunks' 'swing' 'switch' 'syringe' 'table lamp'\n",
      " 'tank' 'tape player' 'teapot' 'teddy' 'television' 'tennis ball' 'thatch'\n",
      " 'theater curtain' 'thimble' 'thresher' 'throne' 'tile roof' 'toaster'\n",
      " 'tobacco shop' 'toilet seat' 'torch' 'totem pole' 'tow truck' 'toyshop'\n",
      " 'tractor' 'trailer truck' 'tray' 'trench coat' 'tricycle' 'trimaran'\n",
      " 'tripod' 'triumphal arch' 'trolleybus' 'trombone' 'tub' 'turnstile'\n",
      " 'typewriter keyboard' 'umbrella' 'unicycle' 'upright' 'vacuum' 'vase'\n",
      " 'vault' 'velvet' 'vending machine' 'vestment' 'viaduct' 'violin'\n",
      " 'volleyball' 'waffle iron' 'wall clock' 'wallet' 'wardrobe' 'warplane'\n",
      " 'washbasin' 'washer' 'water bottle' 'water jug' 'water tower'\n",
      " 'whiskey jug' 'whistle' 'wig' 'window screen' 'window shade'\n",
      " 'Windsor tie' 'wine bottle' 'wing' 'wok' 'wooden spoon' 'wool'\n",
      " 'worm fence' 'wreck' 'yawl' 'yurt' 'web site' 'comic book'\n",
      " 'crossword puzzle' 'street sign' 'traffic light' 'book jacket' 'menu'\n",
      " 'plate' 'guacamole' 'consomme' 'hot pot' 'trifle' 'ice cream' 'ice lolly'\n",
      " 'French loaf' 'bagel' 'pretzel' 'cheeseburger' 'hotdog' 'mashed potato'\n",
      " 'head cabbage' 'broccoli' 'cauliflower' 'zucchini' 'spaghetti squash'\n",
      " 'acorn squash' 'butternut squash' 'cucumber' 'artichoke' 'bell pepper'\n",
      " 'cardoon' 'mushroom' 'Granny Smith' 'strawberry' 'orange' 'lemon' 'fig'\n",
      " 'pineapple' 'banana' 'jackfruit' 'custard apple' 'pomegranate' 'hay'\n",
      " 'carbonara' 'chocolate sauce' 'dough' 'meat loaf' 'pizza' 'potpie'\n",
      " 'burrito' 'red wine' 'espresso' 'cup' 'eggnog' 'alp' 'bubble' 'cliff'\n",
      " 'coral reef' 'geyser' 'lakeside' 'promontory' 'sandbar' 'seashore'\n",
      " 'valley' 'volcano' 'ballplayer' 'groom' 'scuba diver' 'rapeseed' 'daisy'\n",
      " \"yellow lady's slipper\" 'corn' 'acorn' 'hip' 'buckeye' 'coral fungus'\n",
      " 'agaric' 'gyromitra' 'stinkhorn' 'earthstar' 'hen-of-the-woods' 'bolete'\n",
      " 'ear' 'toilet tissue']\n"
     ]
    }
   ],
   "source": [
    "print(class_names)\n",
    "labels = tf.constant([class_names])\n",
    "# print(labels)"
   ]
  },
  {
   "cell_type": "markdown",
   "id": "b3219248-d436-42af-a996-387fd5bb1f83",
   "metadata": {},
   "source": [
    "### Load base model, add signature and save"
   ]
  },
  {
   "cell_type": "code",
   "execution_count": 19,
   "id": "9c2d1e9a-3735-4578-8df8-8896781e3b40",
   "metadata": {
    "tags": []
   },
   "outputs": [
    {
     "name": "stdout",
     "output_type": "stream",
     "text": [
      "ConcreteFunction signature_wrapper(*, input_2)\n",
      "  Args:\n",
      "    input_2: float32 Tensor, shape=(None, 224, 224, 3)\n",
      "  Returns:\n",
      "    {'predictions': <1>}\n",
      "      <1>: float32 Tensor, shape=(None, 1000)\n",
      "INFO:tensorflow:Assets written to: ./models/redbag/1/assets\n"
     ]
    },
    {
     "name": "stderr",
     "output_type": "stream",
     "text": [
      "INFO:tensorflow:Assets written to: ./models/redbag/1/assets\n"
     ]
    }
   ],
   "source": [
    "smodel = tf.saved_model.load(\"./models/base/1\")\n",
    "\n",
    "# This is the current signature, that only accepts image tensors as input\n",
    "signature = smodel.signatures[\"serving_default\"]\n",
    "print(signature)\n",
    "\n",
    "# obtain the key name of the output (typically 'dense_X')\n",
    "keyOutput = next(iter(signature.structured_outputs))\n",
    "\n",
    "@tf.function()\n",
    "def my_predict(image_b64):\n",
    "\n",
    "    # get content\n",
    "    content = image_b64[0]\n",
    "    \n",
    "    # decode image    \n",
    "    image = tf.image.decode_jpeg(content,channels=3)\n",
    "    # tf.compat.v1.enable_eager_execution()\n",
    "    \n",
    "    # resize image\n",
    "    # image = tf.image.resize(image, [160, 160])\n",
    "    image = tf.image.resize(image, [224, 224])\n",
    "    \n",
    "    # expand dimension to match signature\n",
    "    image = tf.expand_dims(image, 0)\n",
    "    \n",
    "    image = preprocess_input(image)\n",
    "        \n",
    "    # execute prediction\n",
    "    prediction = signature(image)\n",
    "\n",
    "    # obtain index of maximum probability prediction\n",
    "    idx = tf.argmax(prediction[keyOutput],axis=1)\n",
    "    \n",
    "    # obtain the label for given index\n",
    "    label = tf.gather(labels, idx, batch_dims=1)\n",
    "\n",
    "    # obtain probability from Tensor\n",
    "    probability = prediction[keyOutput][0,idx[0]]\n",
    "    \n",
    "    # combine result in String Tensor format with [label,probability]\n",
    "    result = tf.concat([label, [tf.as_string(probability)]], axis=0)\n",
    "    \n",
    "    # return result_tensor\n",
    "    return result\n",
    "\n",
    "# Create new signature, to read b64 images\n",
    "new_signature = my_predict.get_concrete_function(\n",
    "    image_b64=tf.TensorSpec(name=\"image_b64\", shape=[1], dtype=tf.string)\n",
    ")\n",
    "\n",
    "# Save model with Base64 input signature\n",
    "tf.saved_model.save(\n",
    "    smodel,\n",
    "    export_dir=\"./models/redbag/1\",\n",
    "    signatures=new_signature\n",
    ")"
   ]
  },
  {
   "cell_type": "markdown",
   "id": "d28f2fac-5d8e-40f6-a8cc-b53671c1e978",
   "metadata": {},
   "source": [
    "# Test Base64 Model with single image"
   ]
  },
  {
   "cell_type": "code",
   "execution_count": 20,
   "id": "a3a9b5d9-3bfc-48e6-b13a-efd0df2a1040",
   "metadata": {
    "tags": []
   },
   "outputs": [
    {
     "name": "stdout",
     "output_type": "stream",
     "text": [
      "ConcreteFunction signature_wrapper(*, image_b64)\n",
      "  Args:\n",
      "    image_b64: string Tensor, shape=(1,)\n",
      "  Returns:\n",
      "    {'output_0': <1>}\n",
      "      <1>: string Tensor, shape=(2,)\n"
     ]
    }
   ],
   "source": [
    "smodel = tf.saved_model.load(\"./models/redbag/1\")\n",
    "\n",
    "# Load model's signature\n",
    "signature = smodel.signatures[\"serving_default\"]\n",
    "\n",
    "print(signature)"
   ]
  },
  {
   "cell_type": "markdown",
   "id": "d3dbc0d5-70d9-4156-a6da-969a70a14aa4",
   "metadata": {},
   "source": [
    "### Run Inference"
   ]
  },
  {
   "cell_type": "code",
   "execution_count": 21,
   "id": "15e34858-5b74-4528-b631-9c66d8cfef58",
   "metadata": {
    "tags": []
   },
   "outputs": [
    {
     "name": "stdout",
     "output_type": "stream",
     "text": [
      "{'output_0': <tf.Tensor: shape=(2,), dtype=string, numpy=array([b'banana', b'0.808100'], dtype=object)>}\n"
     ]
    }
   ],
   "source": [
    "testfile = \"./samples/banana.jpeg\"\n",
    "\n",
    "# load test image\n",
    "content = tf.io.read_file(testfile)\n",
    "\n",
    "# reshape to signature's expected dimensions\n",
    "content = tf.reshape(content, shape = [1])\n",
    "\n",
    "# print(tf.print(content, summarize=3))\n",
    "\n",
    "# obtain signature\n",
    "f = smodel.signatures[\"serving_default\"]\n",
    "\n",
    "# run prediction\n",
    "myprediction = f(image_b64=content)\n",
    "print(myprediction)"
   ]
  },
  {
   "cell_type": "code",
   "execution_count": null,
   "id": "db9f152d-98ee-4cbd-973e-d68b9e98e1e1",
   "metadata": {},
   "outputs": [],
   "source": []
  }
 ],
 "metadata": {
  "colab": {
   "name": "Alpaca image classifier.ipynb",
   "provenance": []
  },
  "kernelspec": {
   "display_name": "Python 3.9",
   "language": "python",
   "name": "python3"
  },
  "language_info": {
   "codemirror_mode": {
    "name": "ipython",
    "version": 3
   },
   "file_extension": ".py",
   "mimetype": "text/x-python",
   "name": "python",
   "nbconvert_exporter": "python",
   "pygments_lexer": "ipython3",
   "version": "3.9.18"
  }
 },
 "nbformat": 4,
 "nbformat_minor": 5
}
