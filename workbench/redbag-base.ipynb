{
 "cells": [
  {
   "cell_type": "markdown",
   "id": "e20a0971",
   "metadata": {
    "id": "e20a0971",
    "tags": []
   },
   "source": [
    "# Python imports"
   ]
  },
  {
   "cell_type": "code",
   "execution_count": null,
   "id": "8wM31kI5-PeJ",
   "metadata": {
    "id": "8wM31kI5-PeJ",
    "tags": []
   },
   "outputs": [],
   "source": [
    "# import the required libraries\n",
    "import os\n",
    "import numpy as np\n",
    "import base64\n",
    "import matplotlib.pyplot as plt\n",
    "import tensorflow as tf\n",
    "\n",
    "from PIL import Image\n",
    "from io import BytesIO\n",
    "from tensorflow.keras.applications.mobilenet_v2 import preprocess_input"
   ]
  },
  {
   "cell_type": "markdown",
   "id": "eb58fc24",
   "metadata": {
    "id": "eb58fc24",
    "tags": []
   },
   "source": [
    "# Load pre-trained model"
   ]
  },
  {
   "cell_type": "code",
   "execution_count": null,
   "id": "717277b5",
   "metadata": {
    "id": "717277b5",
    "tags": []
   },
   "outputs": [],
   "source": [
    "pre_trained_model = tf.keras.applications.MobileNetV2()"
   ]
  },
  {
   "cell_type": "code",
   "execution_count": null,
   "id": "835a6a8b-62fa-406a-a592-510e1e766106",
   "metadata": {
    "id": "717277b5",
    "tags": []
   },
   "outputs": [],
   "source": [
    "pre_trained_model.summary()"
   ]
  },
  {
   "cell_type": "code",
   "execution_count": null,
   "id": "3ce1de34-75cf-44fb-9cac-b24f87380889",
   "metadata": {
    "tags": []
   },
   "outputs": [],
   "source": [
    "len(pre_trained_model.layers)"
   ]
  },
  {
   "cell_type": "markdown",
   "id": "7b2a42f2-1279-4756-9b3b-9ff54b17e880",
   "metadata": {
    "tags": []
   },
   "source": [
    "# Test single image"
   ]
  },
  {
   "cell_type": "markdown",
   "id": "79af05df-88f6-49f1-85e9-d6b0c74d7ac8",
   "metadata": {},
   "source": [
    "## Load image"
   ]
  },
  {
   "cell_type": "markdown",
   "id": "7167754a-d1ef-465d-a5d3-20ccb72f68f0",
   "metadata": {},
   "source": [
    "<div> <img src=\"samples/banana.jpeg\" style=\"width: 20%\"/></div>"
   ]
  },
  {
   "cell_type": "code",
   "execution_count": null,
   "id": "74b255cb-0510-46b0-a873-84c418229454",
   "metadata": {
    "tags": []
   },
   "outputs": [],
   "source": [
    "# Image to use\n",
    "testfile = \"samples/banana.jpeg\"\n",
    "\n",
    "# Open image and format to RGB\n",
    "img = Image.open(testfile).convert('RGB')"
   ]
  },
  {
   "cell_type": "markdown",
   "id": "0efdf539-4106-4012-8c10-1f5694e80752",
   "metadata": {},
   "source": [
    "## Preprocess image"
   ]
  },
  {
   "cell_type": "code",
   "execution_count": null,
   "id": "2131d2ce-2436-4808-9372-c47becf20fce",
   "metadata": {
    "tags": []
   },
   "outputs": [],
   "source": [
    "# Resize\n",
    "img = img.resize((224, 224), Image.LANCZOS)\n",
    "\n",
    "# Convert to Numpy\n",
    "img = np.asarray(img)\n",
    "mydata = np.empty((1, 224, 224, 3))\n",
    "mydata[0] = img\n",
    "\n",
    "# Convert from 0..255 values to -1..1 values\n",
    "ppdata = preprocess_input(mydata)"
   ]
  },
  {
   "cell_type": "markdown",
   "id": "bdbb1d3e-f6b5-4c24-bf96-86a90dd61ce5",
   "metadata": {},
   "source": [
    "## Run Prediction"
   ]
  },
  {
   "cell_type": "code",
   "execution_count": null,
   "id": "614bf5a8-0718-4f40-bc25-882f7faf768f",
   "metadata": {
    "tags": []
   },
   "outputs": [],
   "source": [
    "myprediction = pre_trained_model.predict(ppdata)\n",
    "\n",
    "print(myprediction)"
   ]
  },
  {
   "cell_type": "markdown",
   "id": "1dd3c4e3-ad63-4319-a41c-69cd3b8af02b",
   "metadata": {},
   "source": [
    "## Highest prediction"
   ]
  },
  {
   "cell_type": "code",
   "execution_count": null,
   "id": "85e8fb33-50e0-4bfd-8dfd-ed176e24ea54",
   "metadata": {
    "tags": []
   },
   "outputs": [],
   "source": [
    "print(np.argmax(myprediction, axis=1))"
   ]
  },
  {
   "cell_type": "markdown",
   "id": "813ff913-00e3-4395-b19b-739aa2d21880",
   "metadata": {
    "tags": []
   },
   "source": [
    "## Prediction label\n",
    "\n",
    "### Download labels"
   ]
  },
  {
   "cell_type": "code",
   "execution_count": null,
   "id": "e3715f33-28f0-4f82-96c9-74d62478f410",
   "metadata": {
    "tags": []
   },
   "outputs": [],
   "source": [
    "LABELS_URL = 'https://storage.googleapis.com/download.tensorflow.org/data/ImageNetLabels.txt'\n",
    "labels_path = tf.keras.utils.get_file('ImageNetLabels.txt', LABELS_URL)"
   ]
  },
  {
   "cell_type": "markdown",
   "id": "a728da2e-2c36-45f4-b484-d9adde6ef554",
   "metadata": {
    "tags": []
   },
   "source": [
    "### Find result label"
   ]
  },
  {
   "cell_type": "code",
   "execution_count": null,
   "id": "e0b0d402-39be-41f8-ac88-36d7ba2cf858",
   "metadata": {
    "tags": []
   },
   "outputs": [],
   "source": [
    "class_names = np.array(\n",
    "    open(labels_path).read().splitlines()\n",
    ")[1:]\n",
    "\n",
    "print(class_names[np.argmax(myprediction, axis=1)])"
   ]
  },
  {
   "cell_type": "markdown",
   "id": "2810f568-3c47-41f9-9d3d-8d1c1dbd1256",
   "metadata": {
    "tags": []
   },
   "source": [
    "# Save base model"
   ]
  },
  {
   "cell_type": "code",
   "execution_count": null,
   "id": "8d87e72f-04ea-4124-b24e-f78927f67386",
   "metadata": {
    "tags": []
   },
   "outputs": [],
   "source": [
    "# We save the model to work on it later\n",
    "tf.saved_model.save(pre_trained_model, \"./models/base/1\")"
   ]
  }
 ],
 "metadata": {
  "colab": {
   "name": "Alpaca image classifier.ipynb",
   "provenance": []
  },
  "kernelspec": {
   "display_name": "Python 3.9",
   "language": "python",
   "name": "python3"
  },
  "language_info": {
   "codemirror_mode": {
    "name": "ipython",
    "version": 3
   },
   "file_extension": ".py",
   "mimetype": "text/x-python",
   "name": "python",
   "nbconvert_exporter": "python",
   "pygments_lexer": "ipython3",
   "version": "3.9.18"
  }
 },
 "nbformat": 4,
 "nbformat_minor": 5
}
